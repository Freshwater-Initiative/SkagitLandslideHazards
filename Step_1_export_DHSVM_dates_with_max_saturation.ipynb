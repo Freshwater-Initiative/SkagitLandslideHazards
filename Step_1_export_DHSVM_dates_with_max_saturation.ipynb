{
 "cells": [
  {
   "cell_type": "markdown",
   "metadata": {},
   "source": [
    "# Purpose\n",
    "Use DHSVM saturation extent output to identify dates witn maximum saturated area in each water year\n",
    "to export dates in DHSVM config format for outputting maps of saturation in\n",
    "subsequent runs as in example below:  \n",
    "Map Date 1 1 = 08/01/1987-00 # output for this variable<br/>\n",
    "Map Date 2 1 = 08/01/1988-00 <br/>\n",
    "Map Date 3 1 = 08/01/1989-00 <br/>\n",
    "Map Date 4 1 = 08/01/1990-00 <br/>\n"
   ]
  },
  {
   "cell_type": "code",
   "execution_count": null,
   "metadata": {},
   "outputs": [],
   "source": [
    "# import packages \n",
    "import numpy as np\n",
    "import matplotlib.pyplot as plt\n",
    "import pandas as pd\n",
    "import xarray as xr\n",
    "import time"
   ]
  },
  {
   "cell_type": "markdown",
   "metadata": {},
   "source": [
    "Load DHSVM saturation extent files for the historic and future runs as Pandas dataframes\n"
   ]
  },
  {
   "cell_type": "code",
   "execution_count": 2,
   "metadata": {},
   "outputs": [],
   "source": [
    "#load files, place data in pandas dataframes\n",
    "sat_his = pd.read_csv('/Users/carina/Desktop/code/SkagitLandslideHazards/saturation_methods/skagit_extent/output_SCLlandslide_historic/saturation_extent.txt', sep='\\s+', header=None, names=[\"time\", \"sat_value\"])\n",
    "sat_CNRM_CM5_rcp85 = pd.read_csv('/Users/carina/Desktop/code/SkagitLandslideHazards/saturation_methods/skagit_extent/output_SCLlandslide_bclivlow_G_CNRM-CM5__rcp85/saturation_extent.txt', sep='\\s+', header=None, names=[\"time\", \"sat_value\"])\n",
    "sat_CNRM_CM5_rcp45 = pd.read_csv('/Users/carina/Desktop/code/SkagitLandslideHazards/saturation_methods/skagit_extent/output_SCLlandslide_bclivlow_G_CNRM-CM5__rcp45/saturation_extent.txt', sep='\\s+', header=None, names=[\"time\", \"sat_value\"])\n",
    "sat_HadGEM2_ES365_rcp85 = pd.read_csv('/Users/carina/Desktop/code/SkagitLandslideHazards/saturation_methods/skagit_extent/output_SCLlandslide_bclivlow_G_NorESM1_M__rcp45/saturation_extent.txt', sep='\\s+', header=None, names=[\"time\", \"sat_value\"])\n",
    "sat_HadGEM2_ES365_rcp45 = pd.read_csv('/Users/carina/Desktop/code/SkagitLandslideHazards/saturation_methods/skagit_extent/output_SCLlandslide_bclivlow_G_HadGEM2-ES365__rcp45/saturation_extent.txt', sep='\\s+', header=None, names=[\"time\", \"sat_value\"])\n",
    "sat_NorESM1_M_rcp85 = pd.read_csv('/Users/carina/Desktop/code/SkagitLandslideHazards/saturation_methods/skagit_extent/output_SCLlandslide_bclivlow_G_NorESM1_M__rcp85/saturation_extent.txt', sep='\\s+', header=None, names=[\"time\", \"sat_value\"])\n",
    "sat_NorESM1_M_rcp45 = pd.read_csv('/Users/carina/Desktop/code/SkagitLandslideHazards/saturation_methods/skagit_extent/output_SCLlandslide_bclivlow_G_NorESM1_M__rcp45/saturation_extent.txt', sep='\\s+', header=None, names=[\"time\", \"sat_value\"])\n"
   ]
  },
  {
   "cell_type": "markdown",
   "metadata": {},
   "source": [
    "Define functions to separate water years and apply calculations by water year\n"
   ]
  },
  {
   "cell_type": "code",
   "execution_count": 3,
   "metadata": {},
   "outputs": [],
   "source": [
    "def calc_water_year(date):\n",
    "    date = pd.to_datetime(date)\n",
    "    if 10 <= date.month <= 12:\n",
    "        return date.year + 1\n",
    "    else:\n",
    "        return date.year\n",
    "        \n",
    "def calc_water_year_apply(df):\n",
    "    df['water_year'] = df.datetime.apply(lambda row: calc_water_year(row))  "
   ]
  },
  {
   "cell_type": "markdown",
   "metadata": {},
   "source": [
    "Define a function that takes in the saturation extent data, calculates water year for each data point, </br>\n",
    "groups the data by water year, sorts within a water year and outputs the dates for the highest saturation value within each water year\n"
   ]
  },
  {
   "cell_type": "code",
   "execution_count": null,
   "metadata": {},
   "outputs": [],
   "source": [
    "def list_dates(sat_dataframe):\n",
    "#    sat_dataframe = data1\n",
    "    sat_dataframe.time = sat_dataframe.time.apply(pd.to_datetime, dayfirst=False, yearfirst=False)\n",
    "    sat_dataframe.index = sat_dataframe['time']\n",
    "    del sat_dataframe['time']\n",
    "    sat_dataframe['doy']= sat_dataframe.index.dayofyear\n",
    "    sat_dataframe['cal_year'] = sat_dataframe.index.year\n",
    "    sat_dataframe['month'] = sat_dataframe.index.month\n",
    "    sat_dataframe['datetime'] = sat_dataframe.index\n",
    "    #calc_water_year_apply(sat_dataframe)['datetime']\n",
    "    calc_water_year_apply(sat_dataframe)\n",
    "    grouped = sat_dataframe.groupby('water_year')\n",
    "    out_all = []\n",
    "    for name,group in grouped:\n",
    "         a = group.sort_values(by=['sat_value'], ascending=False)\n",
    "         out = a.iloc[0]\n",
    "         out_all.append(out.datetime)\n",
    "    return out_all"
   ]
  },
  {
   "cell_type": "markdown",
   "metadata": {},
   "source": [
    "Define a function that lists the dates in the format required by DHSVM output. This is needed such that DHSVM is re-run to output depth-to-water table maps to be used in subsequent analysis"
   ]
  },
  {
   "cell_type": "code",
   "execution_count": 5,
   "metadata": {},
   "outputs": [],
   "source": [
    "def make_list_dates_output(list_dates):\n",
    "    list_ = []    \n",
    "    for index in range(len(list_dates)):\n",
    "        date_test = list_dates[index]\n",
    "        date_string = \"Map date {} 1= {}\".format(index + 1, date_test.to_pydatetime().strftime(\"%m/%d/%Y-%H\"))\n",
    "    #    print(\"Map date {} {}\".format(index + 1, date_test.to_pydatetime().strftime(\"%m/%d/%Y-%H\")))\n",
    "        list_.append(date_string)\n",
    "    return list_    "
   ]
  },
  {
   "cell_type": "markdown",
   "metadata": {},
   "source": [
    "The folllowing cell is reading the saturation file for each of the DHSVM runs (not in a loop) and exports a list of dates that have the highest saturation extent in each water year "
   ]
  },
  {
   "cell_type": "code",
   "execution_count": null,
   "metadata": {},
   "outputs": [],
   "source": [
    "#export in text file - historic\n",
    "temp = list_dates(sat_his)\n",
    "list_ = make_list_dates_output(temp)    \n",
    "with open('export_historic_dates_check', 'w') as f:\n",
    "    for item in list_:\n",
    "        f.write(\"%s\\n\" % item)\n",
    "        \n",
    "#find dattes for climate runs      \n",
    "temp_1 = list_dates(sat_CNRM_CM5_rcp85)\n",
    "list_1= make_list_dates_output(temp_1)    \n",
    "with open('export_dates_sat_CNRM_CM5_rcp85_check', 'w') as f:\n",
    "    for item in list_1:\n",
    "        f.write(\"%s\\n\" % item)\n",
    "        \n",
    "#find dattes for climate runs      \n",
    "temp_2 = list_dates(sat_CNRM_CM5_rcp45)\n",
    "list_2= make_list_dates_output(temp_2)    \n",
    "with open('export_dates_sat_CNRM_CM5_rcp45_check', 'w') as f:\n",
    "    for item in list_2:\n",
    "        f.write(\"%s\\n\" % item)\n",
    "\n",
    "#find dattes for climate runs      \n",
    "temp_3 = list_dates(sat_HadGEM2_ES365_rcp85)\n",
    "list_3= make_list_dates_output(temp_3)    \n",
    "with open('export_dates_sat_HadGEM2_ES365_rcp85_check', 'w') as f:\n",
    "    for item in list_3:\n",
    "        f.write(\"%s\\n\" % item)\n",
    "\n",
    "#find dattes for climate runs      \n",
    "temp_4 = list_dates(sat_HadGEM2_ES365_rcp45)\n",
    "list_4= make_list_dates_output(temp_4)    \n",
    "with open('export_dates_sat_HadGEM2_ES365_rcp45_check', 'w') as f:\n",
    "    for item in list_4:\n",
    "        f.write(\"%s\\n\" % item)\n",
    "\n",
    "#find dattes for climate runs      \n",
    "temp_5 = list_dates(sat_NorESM1_M_rcp85)\n",
    "list_5= make_list_dates_output(temp_5)    \n",
    "with open('export_dates_sat_NorESM1_M_rcp85_check', 'w') as f:\n",
    "    for item in list_5:\n",
    "        f.write(\"%s\\n\" % item)\n",
    "\n",
    "#find dattes for climate runs      \n",
    "temp_6 = list_dates(sat_NorESM1_M_rcp45)\n",
    "list_6 = make_list_dates_output(temp_6)    \n",
    "with open('export_dates_sat_NorESM1_M_rcp45_check', 'w') as f:\n",
    "    for item in list_6:\n",
    "        f.write(\"%s\\n\" % item)"
   ]
  }
 ],
 "metadata": {
  "kernelspec": {
   "display_name": "Python 3",
   "language": "python",
   "name": "python3"
  },
  "language_info": {
   "codemirror_mode": {
    "name": "ipython",
    "version": 3
   },
   "file_extension": ".py",
   "mimetype": "text/x-python",
   "name": "python",
   "nbconvert_exporter": "python",
   "pygments_lexer": "ipython3",
   "version": "3.6.7"
  }
 },
 "nbformat": 4,
 "nbformat_minor": 2
}
